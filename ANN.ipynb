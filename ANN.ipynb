{
  "nbformat": 4,
  "nbformat_minor": 0,
  "metadata": {
    "colab": {
      "provenance": [],
      "gpuType": "T4"
    },
    "kernelspec": {
      "name": "python3",
      "display_name": "Python 3"
    },
    "language_info": {
      "name": "python"
    },
    "accelerator": "GPU"
  },
  "cells": [
    {
      "cell_type": "code",
      "source": [
        "## Implementation Of Artificial Neural Network (ANN) In Python- Step By Step Guide"
      ],
      "metadata": {
        "id": "-00eFXNDerJy"
      },
      "execution_count": 31,
      "outputs": []
    },
    {
      "cell_type": "code",
      "source": [
        "pip install tensorflow\n"
      ],
      "metadata": {
        "colab": {
          "base_uri": "https://localhost:8080/"
        },
        "id": "d6LJk16aZBZx",
        "outputId": "b95d7d17-84c4-4ba4-9126-bd09e11dd930"
      },
      "execution_count": 5,
      "outputs": [
        {
          "output_type": "stream",
          "name": "stdout",
          "text": [
            "Requirement already satisfied: tensorflow in /usr/local/lib/python3.10/dist-packages (2.15.0)\n",
            "Requirement already satisfied: absl-py>=1.0.0 in /usr/local/lib/python3.10/dist-packages (from tensorflow) (1.4.0)\n",
            "Requirement already satisfied: astunparse>=1.6.0 in /usr/local/lib/python3.10/dist-packages (from tensorflow) (1.6.3)\n",
            "Requirement already satisfied: flatbuffers>=23.5.26 in /usr/local/lib/python3.10/dist-packages (from tensorflow) (23.5.26)\n",
            "Requirement already satisfied: gast!=0.5.0,!=0.5.1,!=0.5.2,>=0.2.1 in /usr/local/lib/python3.10/dist-packages (from tensorflow) (0.5.4)\n",
            "Requirement already satisfied: google-pasta>=0.1.1 in /usr/local/lib/python3.10/dist-packages (from tensorflow) (0.2.0)\n",
            "Requirement already satisfied: h5py>=2.9.0 in /usr/local/lib/python3.10/dist-packages (from tensorflow) (3.9.0)\n",
            "Requirement already satisfied: libclang>=13.0.0 in /usr/local/lib/python3.10/dist-packages (from tensorflow) (16.0.6)\n",
            "Requirement already satisfied: ml-dtypes~=0.2.0 in /usr/local/lib/python3.10/dist-packages (from tensorflow) (0.2.0)\n",
            "Requirement already satisfied: numpy<2.0.0,>=1.23.5 in /usr/local/lib/python3.10/dist-packages (from tensorflow) (1.23.5)\n",
            "Requirement already satisfied: opt-einsum>=2.3.2 in /usr/local/lib/python3.10/dist-packages (from tensorflow) (3.3.0)\n",
            "Requirement already satisfied: packaging in /usr/local/lib/python3.10/dist-packages (from tensorflow) (23.2)\n",
            "Requirement already satisfied: protobuf!=4.21.0,!=4.21.1,!=4.21.2,!=4.21.3,!=4.21.4,!=4.21.5,<5.0.0dev,>=3.20.3 in /usr/local/lib/python3.10/dist-packages (from tensorflow) (3.20.3)\n",
            "Requirement already satisfied: setuptools in /usr/local/lib/python3.10/dist-packages (from tensorflow) (67.7.2)\n",
            "Requirement already satisfied: six>=1.12.0 in /usr/local/lib/python3.10/dist-packages (from tensorflow) (1.16.0)\n",
            "Requirement already satisfied: termcolor>=1.1.0 in /usr/local/lib/python3.10/dist-packages (from tensorflow) (2.4.0)\n",
            "Requirement already satisfied: typing-extensions>=3.6.6 in /usr/local/lib/python3.10/dist-packages (from tensorflow) (4.5.0)\n",
            "Requirement already satisfied: wrapt<1.15,>=1.11.0 in /usr/local/lib/python3.10/dist-packages (from tensorflow) (1.14.1)\n",
            "Requirement already satisfied: tensorflow-io-gcs-filesystem>=0.23.1 in /usr/local/lib/python3.10/dist-packages (from tensorflow) (0.34.0)\n",
            "Requirement already satisfied: grpcio<2.0,>=1.24.3 in /usr/local/lib/python3.10/dist-packages (from tensorflow) (1.60.0)\n",
            "Requirement already satisfied: tensorboard<2.16,>=2.15 in /usr/local/lib/python3.10/dist-packages (from tensorflow) (2.15.1)\n",
            "Requirement already satisfied: tensorflow-estimator<2.16,>=2.15.0 in /usr/local/lib/python3.10/dist-packages (from tensorflow) (2.15.0)\n",
            "Requirement already satisfied: keras<2.16,>=2.15.0 in /usr/local/lib/python3.10/dist-packages (from tensorflow) (2.15.0)\n",
            "Requirement already satisfied: wheel<1.0,>=0.23.0 in /usr/local/lib/python3.10/dist-packages (from astunparse>=1.6.0->tensorflow) (0.42.0)\n",
            "Requirement already satisfied: google-auth<3,>=1.6.3 in /usr/local/lib/python3.10/dist-packages (from tensorboard<2.16,>=2.15->tensorflow) (2.17.3)\n",
            "Requirement already satisfied: google-auth-oauthlib<2,>=0.5 in /usr/local/lib/python3.10/dist-packages (from tensorboard<2.16,>=2.15->tensorflow) (1.2.0)\n",
            "Requirement already satisfied: markdown>=2.6.8 in /usr/local/lib/python3.10/dist-packages (from tensorboard<2.16,>=2.15->tensorflow) (3.5.1)\n",
            "Requirement already satisfied: requests<3,>=2.21.0 in /usr/local/lib/python3.10/dist-packages (from tensorboard<2.16,>=2.15->tensorflow) (2.31.0)\n",
            "Requirement already satisfied: tensorboard-data-server<0.8.0,>=0.7.0 in /usr/local/lib/python3.10/dist-packages (from tensorboard<2.16,>=2.15->tensorflow) (0.7.2)\n",
            "Requirement already satisfied: werkzeug>=1.0.1 in /usr/local/lib/python3.10/dist-packages (from tensorboard<2.16,>=2.15->tensorflow) (3.0.1)\n",
            "Requirement already satisfied: cachetools<6.0,>=2.0.0 in /usr/local/lib/python3.10/dist-packages (from google-auth<3,>=1.6.3->tensorboard<2.16,>=2.15->tensorflow) (5.3.2)\n",
            "Requirement already satisfied: pyasn1-modules>=0.2.1 in /usr/local/lib/python3.10/dist-packages (from google-auth<3,>=1.6.3->tensorboard<2.16,>=2.15->tensorflow) (0.3.0)\n",
            "Requirement already satisfied: rsa<5,>=3.1.4 in /usr/local/lib/python3.10/dist-packages (from google-auth<3,>=1.6.3->tensorboard<2.16,>=2.15->tensorflow) (4.9)\n",
            "Requirement already satisfied: requests-oauthlib>=0.7.0 in /usr/local/lib/python3.10/dist-packages (from google-auth-oauthlib<2,>=0.5->tensorboard<2.16,>=2.15->tensorflow) (1.3.1)\n",
            "Requirement already satisfied: charset-normalizer<4,>=2 in /usr/local/lib/python3.10/dist-packages (from requests<3,>=2.21.0->tensorboard<2.16,>=2.15->tensorflow) (3.3.2)\n",
            "Requirement already satisfied: idna<4,>=2.5 in /usr/local/lib/python3.10/dist-packages (from requests<3,>=2.21.0->tensorboard<2.16,>=2.15->tensorflow) (3.6)\n",
            "Requirement already satisfied: urllib3<3,>=1.21.1 in /usr/local/lib/python3.10/dist-packages (from requests<3,>=2.21.0->tensorboard<2.16,>=2.15->tensorflow) (2.0.7)\n",
            "Requirement already satisfied: certifi>=2017.4.17 in /usr/local/lib/python3.10/dist-packages (from requests<3,>=2.21.0->tensorboard<2.16,>=2.15->tensorflow) (2023.11.17)\n",
            "Requirement already satisfied: MarkupSafe>=2.1.1 in /usr/local/lib/python3.10/dist-packages (from werkzeug>=1.0.1->tensorboard<2.16,>=2.15->tensorflow) (2.1.3)\n",
            "Requirement already satisfied: pyasn1<0.6.0,>=0.4.6 in /usr/local/lib/python3.10/dist-packages (from pyasn1-modules>=0.2.1->google-auth<3,>=1.6.3->tensorboard<2.16,>=2.15->tensorflow) (0.5.1)\n",
            "Requirement already satisfied: oauthlib>=3.0.0 in /usr/local/lib/python3.10/dist-packages (from requests-oauthlib>=0.7.0->google-auth-oauthlib<2,>=0.5->tensorboard<2.16,>=2.15->tensorflow) (3.2.2)\n"
          ]
        }
      ]
    },
    {
      "cell_type": "code",
      "source": [
        "import tensorflow as tf"
      ],
      "metadata": {
        "id": "GRXm0fxvZYYS"
      },
      "execution_count": 6,
      "outputs": []
    },
    {
      "cell_type": "code",
      "source": [
        "print(tf.__version__)"
      ],
      "metadata": {
        "colab": {
          "base_uri": "https://localhost:8080/"
        },
        "id": "ZCg_q5WuZbxd",
        "outputId": "4cee0ccd-b4c6-428c-9076-0f4830f53518"
      },
      "execution_count": 7,
      "outputs": [
        {
          "output_type": "stream",
          "name": "stdout",
          "text": [
            "2.15.0\n"
          ]
        }
      ]
    },
    {
      "cell_type": "code",
      "source": [
        "# Importing The Libraries\n",
        "import numpy as np\n",
        "import matplotlib.pyplot as plt\n",
        "import pandas as pd"
      ],
      "metadata": {
        "id": "2Ln1eaNOZe00"
      },
      "execution_count": 8,
      "outputs": []
    },
    {
      "cell_type": "code",
      "source": [
        "# Importing The Dataset\n",
        "dataset = pd.read_csv('Churn_Modelling.csv')\n",
        "X = dataset.iloc[:, 3:13]\n",
        "y = dataset.iloc[:, 13]"
      ],
      "metadata": {
        "id": "-9vmeaicZt1M"
      },
      "execution_count": 9,
      "outputs": []
    },
    {
      "cell_type": "code",
      "source": [
        "# Create Dummy Variables\n",
        "geography=pd.get_dummies(X[\"Geography\"],drop_first=True)\n",
        "gender=pd.get_dummies(X['Gender'],drop_first=True)"
      ],
      "metadata": {
        "id": "gMMYUolRZzTG"
      },
      "execution_count": 10,
      "outputs": []
    },
    {
      "cell_type": "code",
      "source": [
        "## Concatenate The Data Frames\n",
        "\n",
        "X=pd.concat([X,geography,gender],axis=1)\n",
        "\n",
        "## Drop Unnecessary Columns\n",
        "X=X.drop(['Geography','Gender'],axis=1)\n",
        "\n",
        "# Splitting The Dataset Into The Training Set And Test Set\n",
        "from sklearn.model_selection import train_test_split\n",
        "X_train, X_test, y_train, y_test = train_test_split(X, y, test_size = 0.2, random_state = 0)\n"
      ],
      "metadata": {
        "id": "w5Ot98uSZ7ya"
      },
      "execution_count": 11,
      "outputs": []
    },
    {
      "cell_type": "code",
      "source": [
        "# Feature Scaling\n",
        "from sklearn.preprocessing import StandardScaler\n",
        "sc = StandardScaler()\n",
        "X_train = sc.fit_transform(X_train)\n",
        "X_test = sc.transform(X_test)\n"
      ],
      "metadata": {
        "id": "Pl7RnVTJaIj8"
      },
      "execution_count": 12,
      "outputs": []
    },
    {
      "cell_type": "code",
      "source": [
        "# Part 2 - Now Let's Make The ANN!"
      ],
      "metadata": {
        "id": "5NahciGnaKzS"
      },
      "execution_count": 14,
      "outputs": []
    },
    {
      "cell_type": "markdown",
      "source": [
        "# Part 2 - Now Let's Make The ANN!"
      ],
      "metadata": {
        "id": "AhTCYm8WaUzB"
      }
    },
    {
      "cell_type": "code",
      "source": [
        "from tensorflow.keras.models import Sequential\n",
        "from tensorflow.keras.layers import Dense\n",
        "from tensorflow.keras.layers import LeakyReLU,PReLU,ELU\n",
        "from tensorflow.keras.layers import Dropout\n"
      ],
      "metadata": {
        "id": "ClP2xP30aaP9"
      },
      "execution_count": 15,
      "outputs": []
    },
    {
      "cell_type": "code",
      "source": [
        "# Initialising The  ANN\n",
        "classifier = Sequential()"
      ],
      "metadata": {
        "id": "oYciFIoaaflI"
      },
      "execution_count": 16,
      "outputs": []
    },
    {
      "cell_type": "code",
      "source": [
        "# Adding The Input Layer And The First Hidden Layer\n",
        "classifier.add(Dense(units=11,activation='relu'))"
      ],
      "metadata": {
        "id": "TKsb82jKalzC"
      },
      "execution_count": 17,
      "outputs": []
    },
    {
      "cell_type": "code",
      "source": [
        "# Adding The Input Layer And The First Hidden Layer\n",
        "classifier.add(Dense(units=6,activation='relu'))"
      ],
      "metadata": {
        "id": "9vW7pO2SawMV"
      },
      "execution_count": 18,
      "outputs": []
    },
    {
      "cell_type": "code",
      "source": [
        "# Adding The Output Layer\n",
        "classifier.add(Dense(units=1,activation='relu'))"
      ],
      "metadata": {
        "id": "phBswQJUa7f2"
      },
      "execution_count": 19,
      "outputs": []
    },
    {
      "cell_type": "code",
      "source": [
        "classifier.compile(optimizer='adam',loss='binary_crossentropy',metrics=['accuracy'])"
      ],
      "metadata": {
        "id": "0oYVZyH2bBbV"
      },
      "execution_count": 20,
      "outputs": []
    },
    {
      "cell_type": "code",
      "source": [
        "model_history=classifier.fit(X_train,y_train,validation_split=0.33,batch_size=10,epochs=50)"
      ],
      "metadata": {
        "colab": {
          "base_uri": "https://localhost:8080/"
        },
        "id": "qSCKR0gabFrS",
        "outputId": "46367c2d-5ded-45c3-fca3-94afe8fb8425"
      },
      "execution_count": 21,
      "outputs": [
        {
          "output_type": "stream",
          "name": "stdout",
          "text": [
            "Epoch 1/50\n",
            "536/536 [==============================] - 8s 5ms/step - loss: 1.9358 - accuracy: 0.7397 - val_loss: 1.3410 - val_accuracy: 0.7671\n",
            "Epoch 2/50\n",
            "536/536 [==============================] - 2s 5ms/step - loss: 0.9037 - accuracy: 0.7768 - val_loss: 0.5797 - val_accuracy: 0.7842\n",
            "Epoch 3/50\n",
            "536/536 [==============================] - 2s 4ms/step - loss: 0.5656 - accuracy: 0.7925 - val_loss: 0.5145 - val_accuracy: 0.7944\n",
            "Epoch 4/50\n",
            "536/536 [==============================] - 2s 4ms/step - loss: 0.5011 - accuracy: 0.8024 - val_loss: 0.4994 - val_accuracy: 0.8027\n",
            "Epoch 5/50\n",
            "536/536 [==============================] - 3s 6ms/step - loss: 0.4659 - accuracy: 0.8095 - val_loss: 0.4779 - val_accuracy: 0.8114\n",
            "Epoch 6/50\n",
            "536/536 [==============================] - 2s 5ms/step - loss: 0.4308 - accuracy: 0.8244 - val_loss: 0.4483 - val_accuracy: 0.8183\n",
            "Epoch 7/50\n",
            "536/536 [==============================] - 2s 4ms/step - loss: 0.4157 - accuracy: 0.8309 - val_loss: 0.4422 - val_accuracy: 0.8251\n",
            "Epoch 8/50\n",
            "536/536 [==============================] - 2s 4ms/step - loss: 0.4042 - accuracy: 0.8386 - val_loss: 0.4411 - val_accuracy: 0.8281\n",
            "Epoch 9/50\n",
            "536/536 [==============================] - 2s 4ms/step - loss: 0.4014 - accuracy: 0.8438 - val_loss: 0.4470 - val_accuracy: 0.8304\n",
            "Epoch 10/50\n",
            "536/536 [==============================] - 2s 5ms/step - loss: 0.3900 - accuracy: 0.8483 - val_loss: 0.4462 - val_accuracy: 0.8342\n",
            "Epoch 11/50\n",
            "536/536 [==============================] - 3s 5ms/step - loss: 0.3875 - accuracy: 0.8485 - val_loss: 0.4529 - val_accuracy: 0.8376\n",
            "Epoch 12/50\n",
            "536/536 [==============================] - 2s 4ms/step - loss: 0.3830 - accuracy: 0.8528 - val_loss: 0.4569 - val_accuracy: 0.8406\n",
            "Epoch 13/50\n",
            "536/536 [==============================] - 2s 5ms/step - loss: 0.3814 - accuracy: 0.8517 - val_loss: 0.4472 - val_accuracy: 0.8398\n",
            "Epoch 14/50\n",
            "536/536 [==============================] - 2s 4ms/step - loss: 0.3774 - accuracy: 0.8494 - val_loss: 0.4368 - val_accuracy: 0.8406\n",
            "Epoch 15/50\n",
            "536/536 [==============================] - 2s 4ms/step - loss: 0.3714 - accuracy: 0.8569 - val_loss: 0.4177 - val_accuracy: 0.8376\n",
            "Epoch 16/50\n",
            "536/536 [==============================] - 3s 6ms/step - loss: 0.3677 - accuracy: 0.8550 - val_loss: 0.4085 - val_accuracy: 0.8402\n",
            "Epoch 17/50\n",
            "536/536 [==============================] - 2s 4ms/step - loss: 0.3588 - accuracy: 0.8580 - val_loss: 0.4391 - val_accuracy: 0.8459\n",
            "Epoch 18/50\n",
            "536/536 [==============================] - 2s 4ms/step - loss: 0.3625 - accuracy: 0.8584 - val_loss: 0.4396 - val_accuracy: 0.8417\n",
            "Epoch 19/50\n",
            "536/536 [==============================] - 2s 5ms/step - loss: 0.3564 - accuracy: 0.8597 - val_loss: 0.4333 - val_accuracy: 0.8436\n",
            "Epoch 20/50\n",
            "536/536 [==============================] - 2s 4ms/step - loss: 0.3514 - accuracy: 0.8597 - val_loss: 0.4320 - val_accuracy: 0.8429\n",
            "Epoch 21/50\n",
            "536/536 [==============================] - 4s 7ms/step - loss: 0.3604 - accuracy: 0.8600 - val_loss: 0.4365 - val_accuracy: 0.8413\n",
            "Epoch 22/50\n",
            "536/536 [==============================] - 5s 9ms/step - loss: 0.3557 - accuracy: 0.8563 - val_loss: 0.4340 - val_accuracy: 0.8448\n",
            "Epoch 23/50\n",
            "536/536 [==============================] - 2s 4ms/step - loss: 0.3527 - accuracy: 0.8614 - val_loss: 0.4526 - val_accuracy: 0.8451\n",
            "Epoch 24/50\n",
            "536/536 [==============================] - 2s 4ms/step - loss: 0.3510 - accuracy: 0.8614 - val_loss: 0.4520 - val_accuracy: 0.8436\n",
            "Epoch 25/50\n",
            "536/536 [==============================] - 3s 6ms/step - loss: 0.3507 - accuracy: 0.8612 - val_loss: 0.4418 - val_accuracy: 0.8421\n",
            "Epoch 26/50\n",
            "536/536 [==============================] - 2s 4ms/step - loss: 0.3492 - accuracy: 0.8627 - val_loss: 0.4365 - val_accuracy: 0.8459\n",
            "Epoch 27/50\n",
            "536/536 [==============================] - 2s 4ms/step - loss: 0.3475 - accuracy: 0.8632 - val_loss: 0.4402 - val_accuracy: 0.8413\n",
            "Epoch 28/50\n",
            "536/536 [==============================] - 2s 4ms/step - loss: 0.3481 - accuracy: 0.8621 - val_loss: 0.4349 - val_accuracy: 0.8425\n",
            "Epoch 29/50\n",
            "536/536 [==============================] - 2s 5ms/step - loss: 0.3450 - accuracy: 0.8640 - val_loss: 0.4460 - val_accuracy: 0.8402\n",
            "Epoch 30/50\n",
            "536/536 [==============================] - 4s 7ms/step - loss: 0.3442 - accuracy: 0.8623 - val_loss: 0.4433 - val_accuracy: 0.8455\n",
            "Epoch 31/50\n",
            "536/536 [==============================] - 2s 5ms/step - loss: 0.3460 - accuracy: 0.8634 - val_loss: 0.4378 - val_accuracy: 0.8478\n",
            "Epoch 32/50\n",
            "536/536 [==============================] - 2s 4ms/step - loss: 0.3448 - accuracy: 0.8619 - val_loss: 0.4536 - val_accuracy: 0.8451\n",
            "Epoch 33/50\n",
            "536/536 [==============================] - 2s 4ms/step - loss: 0.3480 - accuracy: 0.8628 - val_loss: 0.4457 - val_accuracy: 0.8482\n",
            "Epoch 34/50\n",
            "536/536 [==============================] - 2s 4ms/step - loss: 0.3501 - accuracy: 0.8606 - val_loss: 0.4478 - val_accuracy: 0.8455\n",
            "Epoch 35/50\n",
            "536/536 [==============================] - 3s 5ms/step - loss: 0.3490 - accuracy: 0.8602 - val_loss: 0.4407 - val_accuracy: 0.8474\n",
            "Epoch 36/50\n",
            "536/536 [==============================] - 3s 5ms/step - loss: 0.3521 - accuracy: 0.8615 - val_loss: 0.4422 - val_accuracy: 0.8466\n",
            "Epoch 37/50\n",
            "536/536 [==============================] - 2s 4ms/step - loss: 0.3461 - accuracy: 0.8627 - val_loss: 0.4306 - val_accuracy: 0.8444\n",
            "Epoch 38/50\n",
            "536/536 [==============================] - 2s 4ms/step - loss: 0.3434 - accuracy: 0.8621 - val_loss: 0.4358 - val_accuracy: 0.8455\n",
            "Epoch 39/50\n",
            "536/536 [==============================] - 2s 4ms/step - loss: 0.3404 - accuracy: 0.8634 - val_loss: 0.4371 - val_accuracy: 0.8436\n",
            "Epoch 40/50\n",
            "536/536 [==============================] - 3s 5ms/step - loss: 0.3394 - accuracy: 0.8647 - val_loss: 0.4466 - val_accuracy: 0.8470\n",
            "Epoch 41/50\n",
            "536/536 [==============================] - 3s 6ms/step - loss: 0.3415 - accuracy: 0.8643 - val_loss: 0.4585 - val_accuracy: 0.8459\n",
            "Epoch 42/50\n",
            "536/536 [==============================] - 2s 4ms/step - loss: 0.3407 - accuracy: 0.8643 - val_loss: 0.4420 - val_accuracy: 0.8501\n",
            "Epoch 43/50\n",
            "536/536 [==============================] - 2s 4ms/step - loss: 0.3411 - accuracy: 0.8617 - val_loss: 0.4630 - val_accuracy: 0.8485\n",
            "Epoch 44/50\n",
            "536/536 [==============================] - 2s 4ms/step - loss: 0.3454 - accuracy: 0.8640 - val_loss: 0.4223 - val_accuracy: 0.8482\n",
            "Epoch 45/50\n",
            "536/536 [==============================] - 3s 5ms/step - loss: 0.3428 - accuracy: 0.8627 - val_loss: 0.4358 - val_accuracy: 0.8512\n",
            "Epoch 46/50\n",
            "536/536 [==============================] - 3s 5ms/step - loss: 0.3399 - accuracy: 0.8634 - val_loss: 0.4487 - val_accuracy: 0.8497\n",
            "Epoch 47/50\n",
            "536/536 [==============================] - 2s 4ms/step - loss: 0.3404 - accuracy: 0.8625 - val_loss: 0.4275 - val_accuracy: 0.8482\n",
            "Epoch 48/50\n",
            "536/536 [==============================] - 2s 4ms/step - loss: 0.3393 - accuracy: 0.8658 - val_loss: 0.4345 - val_accuracy: 0.8489\n",
            "Epoch 49/50\n",
            "536/536 [==============================] - 2s 4ms/step - loss: 0.3401 - accuracy: 0.8623 - val_loss: 0.4764 - val_accuracy: 0.8523\n",
            "Epoch 50/50\n",
            "536/536 [==============================] - 2s 4ms/step - loss: 0.3416 - accuracy: 0.8645 - val_loss: 0.4501 - val_accuracy: 0.8497\n"
          ]
        }
      ]
    },
    {
      "cell_type": "code",
      "source": [
        "# List All Data In History\n",
        "\n",
        "print(model_history.history.keys())"
      ],
      "metadata": {
        "colab": {
          "base_uri": "https://localhost:8080/"
        },
        "id": "jH3x-1TSbrWY",
        "outputId": "6d2a226b-1566-4598-a00f-e470ad0654df"
      },
      "execution_count": 22,
      "outputs": [
        {
          "output_type": "stream",
          "name": "stdout",
          "text": [
            "dict_keys(['loss', 'accuracy', 'val_loss', 'val_accuracy'])\n"
          ]
        }
      ]
    },
    {
      "cell_type": "code",
      "source": [
        "# Summarize History For Accuracy\n",
        "plt.plot(model_history.history['accuracy'])\n",
        "plt.plot(model_history.history['val_accuracy'])\n",
        "plt.title('Model Accuracy')\n",
        "plt.ylabel('Accuracy')\n",
        "plt.xlabel('Epoch')\n",
        "plt.legend(['train', 'test'], loc='upper left')\n",
        "plt.show()"
      ],
      "metadata": {
        "colab": {
          "base_uri": "https://localhost:8080/",
          "height": 472
        },
        "id": "Y3wpQ1gIbxEu",
        "outputId": "f7c9993e-d493-457c-c81d-45119f6e7b04"
      },
      "execution_count": 25,
      "outputs": [
        {
          "output_type": "display_data",
          "data": {
            "text/plain": [
              "<Figure size 640x480 with 1 Axes>"
            ],
            "image/png": "[encoded data removed]"
          },
          "metadata": {}
        }
      ]
    },
    {
      "cell_type": "code",
      "source": [
        "# Summarize History For Loss\n",
        "plt.plot(model_history.history['loss'])\n",
        "plt.plot(model_history.history['val_loss'])\n",
        "plt.title('Model Loss')\n",
        "plt.ylabel('Loss')\n",
        "plt.xlabel('Epoch')\n",
        "plt.legend(['train', 'test'], loc='upper left')\n",
        "plt.show()"
      ],
      "metadata": {
        "colab": {
          "base_uri": "https://localhost:8080/",
          "height": 472
        },
        "id": "30Pca6NqcBtl",
        "outputId": "9898766b-e9f5-4fd3-b871-cfc345effd93"
      },
      "execution_count": 26,
      "outputs": [
        {
          "output_type": "display_data",
          "data": {
            "text/plain": [
              "<Figure size 640x480 with 1 Axes>"
            ],
            "image/png": "[encoded data removed]"
          },
          "metadata": {}
        }
      ]
    },
    {
      "cell_type": "markdown",
      "source": [
        "# Part 3 - Making The Predictions And Evaluating The Model"
      ],
      "metadata": {
        "id": "1KOyT6H4cSpM"
      }
    },
    {
      "cell_type": "code",
      "source": [
        "# Predicting The Test Set Results\n",
        "y_pred = classifier.predict(X_test)\n",
        "y_pred = (y_pred > 0.5)"
      ],
      "metadata": {
        "colab": {
          "base_uri": "https://localhost:8080/"
        },
        "id": "NCNy1UX6cWYR",
        "outputId": "af98101e-62e7-4082-a8b0-b437234ad7ce"
      },
      "execution_count": 27,
      "outputs": [
        {
          "output_type": "stream",
          "name": "stdout",
          "text": [
            "63/63 [==============================] - 0s 2ms/step\n"
          ]
        }
      ]
    },
    {
      "cell_type": "code",
      "source": [
        "# Making The Confusion Matrix\n",
        "from sklearn.metrics import confusion_matrix\n",
        "cm = confusion_matrix(y_test, y_pred)\n",
        "cm"
      ],
      "metadata": {
        "colab": {
          "base_uri": "https://localhost:8080/"
        },
        "id": "Cx6vGL_EchA7",
        "outputId": "601afdff-7cb7-48b1-c4ff-bf05d164bbc7"
      },
      "execution_count": 28,
      "outputs": [
        {
          "output_type": "execute_result",
          "data": {
            "text/plain": [
              "array([[1513,   82],\n",
              "       [ 206,  199]])"
            ]
          },
          "metadata": {},
          "execution_count": 28
        }
      ]
    },
    {
      "cell_type": "code",
      "source": [
        "# Calculate The Accuracy\n",
        "from sklearn.metrics import accuracy_score\n",
        "score=accuracy_score(y_pred,y_test)"
      ],
      "metadata": {
        "id": "1dsHSTkucm2f"
      },
      "execution_count": 29,
      "outputs": []
    },
    {
      "cell_type": "code",
      "source": [
        "score"
      ],
      "metadata": {
        "colab": {
          "base_uri": "https://localhost:8080/"
        },
        "id": "xFEcvZ_QcsS-",
        "outputId": "4bb54cda-2ff3-4a2e-9871-44a8c813cb0f"
      },
      "execution_count": 30,
      "outputs": [
        {
          "output_type": "execute_result",
          "data": {
            "text/plain": [
              "0.856"
            ]
          },
          "metadata": {},
          "execution_count": 30
        }
      ]
    }
  ]
}